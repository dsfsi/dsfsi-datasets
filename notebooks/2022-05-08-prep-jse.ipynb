{
 "cells": [
  {
   "cell_type": "code",
   "execution_count": 13,
   "metadata": {},
   "outputs": [],
   "source": [
    "import pandas as pd\n",
    "\n",
    "from pandas_datareader import data"
   ]
  },
  {
   "cell_type": "code",
   "execution_count": 14,
   "metadata": {},
   "outputs": [
    {
     "data": {
      "text/html": [
       "<div>\n",
       "<style scoped>\n",
       "    .dataframe tbody tr th:only-of-type {\n",
       "        vertical-align: middle;\n",
       "    }\n",
       "\n",
       "    .dataframe tbody tr th {\n",
       "        vertical-align: top;\n",
       "    }\n",
       "\n",
       "    .dataframe thead th {\n",
       "        text-align: right;\n",
       "    }\n",
       "</style>\n",
       "<table border=\"1\" class=\"dataframe\">\n",
       "  <thead>\n",
       "    <tr style=\"text-align: right;\">\n",
       "      <th></th>\n",
       "      <th>JSE Code</th>\n",
       "    </tr>\n",
       "  </thead>\n",
       "  <tbody>\n",
       "    <tr>\n",
       "      <th>0</th>\n",
       "      <td>PRX</td>\n",
       "    </tr>\n",
       "    <tr>\n",
       "      <th>1</th>\n",
       "      <td>ANH</td>\n",
       "    </tr>\n",
       "    <tr>\n",
       "      <th>2</th>\n",
       "      <td>NPN</td>\n",
       "    </tr>\n",
       "    <tr>\n",
       "      <th>3</th>\n",
       "      <td>BTI</td>\n",
       "    </tr>\n",
       "    <tr>\n",
       "      <th>4</th>\n",
       "      <td>GLN</td>\n",
       "    </tr>\n",
       "  </tbody>\n",
       "</table>\n",
       "</div>"
      ],
      "text/plain": [
       "  JSE Code\n",
       "0      PRX\n",
       "1      ANH\n",
       "2      NPN\n",
       "3      BTI\n",
       "4      GLN"
      ]
     },
     "execution_count": 14,
     "metadata": {},
     "output_type": "execute_result"
    }
   ],
   "source": [
    "df_top40_jse_latest = pd.read_csv(\"../data/stocks/top40_jse_2021.csv\")\n",
    "df_top40_jse_latest.head()"
   ]
  },
  {
   "cell_type": "code",
   "execution_count": 15,
   "metadata": {},
   "outputs": [
    {
     "data": {
      "text/plain": [
       "['PRX.JO',\n",
       " 'ANH.JO',\n",
       " 'NPN.JO',\n",
       " 'BTI.JO',\n",
       " 'GLN.JO',\n",
       " 'CFR.JO',\n",
       " 'BHG.JO',\n",
       " 'AGL.JO',\n",
       " 'AMS.JO',\n",
       " 'FSR.JO']"
      ]
     },
     "execution_count": 15,
     "metadata": {},
     "output_type": "execute_result"
    }
   ],
   "source": [
    "# Define the companies to get\n",
    "tickers = list(df_top40_jse_latest['JSE Code'].apply(lambda x: x + '.JO').values)\n",
    "tickers[:10]"
   ]
  },
  {
   "cell_type": "code",
   "execution_count": 16,
   "metadata": {},
   "outputs": [],
   "source": [
    "# We would like all available data from the first 4 months\n",
    "start_date = '2022-01-01'\n",
    "end_date = '2022-04-30'"
   ]
  },
  {
   "cell_type": "code",
   "execution_count": null,
   "metadata": {},
   "outputs": [],
   "source": [
    "stock_data = {}\n",
    "for company in tickers:\n",
    "    panel_data = data.DataReader(company, 'yahoo', start_date, end_date)\n",
    "    stock_data[company.split('.')[0]] = panel_data"
   ]
  },
  {
   "cell_type": "code",
   "execution_count": null,
   "metadata": {},
   "outputs": [],
   "source": [
    "jse_40_performance = []\n",
    "companies = []\n",
    "for company in tickers:\n",
    "    stock = company.split('.')[0]\n",
    "    data = stock_data[stock]\n",
    "    jse_40_performance.append(data['Close'].values)\n",
    "    companies.append(stock)\n",
    "    \n",
    "df_jse_40_performance = pd.DataFrame(jse_40_performance).T\n",
    "df_jse_40_performance.columns = companies\n",
    "df_jse_40_performance.index =data.index\n",
    "df_jse_40_performance.head()"
   ]
  },
  {
   "cell_type": "code",
   "execution_count": null,
   "metadata": {},
   "outputs": [],
   "source": [
    "df_jse_40_performance.to_pickle(\"../data/stocks/top40_jse_2022_performance.df\")\n",
    "df_jse_40_performance.to_csv(\"../data/stocks/top40_jse_2022_performance.csv\")"
   ]
  },
  {
   "cell_type": "code",
   "execution_count": null,
   "metadata": {},
   "outputs": [],
   "source": [
    "pd.read_csv(\"../data/stocks/top40_jse_2022_performance.csv\")"
   ]
  }
 ],
 "metadata": {
  "kernelspec": {
   "display_name": "Python 3 (ipykernel)",
   "language": "python",
   "name": "python3"
  },
  "language_info": {
   "codemirror_mode": {
    "name": "ipython",
    "version": 3
   },
   "file_extension": ".py",
   "mimetype": "text/x-python",
   "name": "python",
   "nbconvert_exporter": "python",
   "pygments_lexer": "ipython3",
   "version": "3.9.12"
  }
 },
 "nbformat": 4,
 "nbformat_minor": 4
}
