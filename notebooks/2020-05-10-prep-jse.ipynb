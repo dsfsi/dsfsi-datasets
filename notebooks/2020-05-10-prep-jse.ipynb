{
 "cells": [
  {
   "cell_type": "code",
   "execution_count": null,
   "metadata": {},
   "outputs": [],
   "source": [
    "import pandas as pd\n",
    "\n",
    "from pandas_datareader import data"
   ]
  },
  {
   "cell_type": "code",
   "execution_count": null,
   "metadata": {},
   "outputs": [],
   "source": [
    "df_top40_jse_2019 = pd.read_csv(\"../data/stocks/top40_jse_2019.csv\")\n",
    "df_top40_jse_2019.head()"
   ]
  },
  {
   "cell_type": "code",
   "execution_count": null,
   "metadata": {},
   "outputs": [],
   "source": [
    "# Define the companies to get\n",
    "tickers = list(df_top40_jse_2019['JSE Code'].apply(lambda x: x + '.JO').values)\n",
    "tickers[:10]"
   ]
  },
  {
   "cell_type": "code",
   "execution_count": null,
   "metadata": {},
   "outputs": [],
   "source": [
    "# We would like all available data from 01/01/2000 until 12/31/2016.\n",
    "start_date = '2020-01-01'\n",
    "end_date = '2020-04-30'"
   ]
  },
  {
   "cell_type": "code",
   "execution_count": null,
   "metadata": {},
   "outputs": [],
   "source": [
    "stock_data = {}\n",
    "for company in tickers:\n",
    "    panel_data = data.DataReader(company, 'yahoo', start_date, end_date)\n",
    "    stock_data[company.split('.')[0]] = panel_data"
   ]
  },
  {
   "cell_type": "code",
   "execution_count": null,
   "metadata": {},
   "outputs": [],
   "source": [
    "pd.DataFrame?"
   ]
  },
  {
   "cell_type": "code",
   "execution_count": null,
   "metadata": {},
   "outputs": [],
   "source": [
    "jse_40_performance = []\n",
    "companies = []\n",
    "for company in tickers:\n",
    "    stock = company.split('.')[0]\n",
    "    data = stock_data[stock]\n",
    "    jse_40_performance.append(data['Close'].values)\n",
    "    companies.append(stock)\n",
    "    \n",
    "df_jse_40_performance = pd.DataFrame(jse_40_performance).T\n",
    "df_jse_40_performance.columns = companies\n",
    "df_jse_40_performance.index =data.index\n",
    "df_jse_40_performance.head()"
   ]
  },
  {
   "cell_type": "code",
   "execution_count": null,
   "metadata": {},
   "outputs": [],
   "source": [
    "df_jse_40_performance.to_pickle(\"../data/stocks/top40_jse_2019_performance.df\")\n",
    "df_jse_40_performance.to_csv(\"../data/stocks/top40_jse_2019_performance.csv\")"
   ]
  }
 ],
 "metadata": {
  "kernelspec": {
   "display_name": "Python 3",
   "language": "python",
   "name": "python3"
  },
  "language_info": {
   "codemirror_mode": {
    "name": "ipython",
    "version": 3
   },
   "file_extension": ".py",
   "mimetype": "text/x-python",
   "name": "python",
   "nbconvert_exporter": "python",
   "pygments_lexer": "ipython3",
   "version": "3.6.10"
  }
 },
 "nbformat": 4,
 "nbformat_minor": 4
}
